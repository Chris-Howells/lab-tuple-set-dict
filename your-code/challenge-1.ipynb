{
 "cells": [
  {
   "cell_type": "markdown",
   "metadata": {},
   "source": [
    "## Challenge 1: Tuples\n",
    "\n",
    "#### Do you know you can create tuples with only one element?\n",
    "\n",
    "**In the cell below, define a variable `tup` with a single element `\"I\"`.**\n",
    "\n",
    "*Hint: you need to add a comma (`,`) after the single element.*"
   ]
  },
  {
   "cell_type": "code",
   "execution_count": 3,
   "metadata": {},
   "outputs": [],
   "source": [
    "# Your code here\n",
    "\n",
    "#create a tuple with I in\n",
    "tup = ('I',)"
   ]
  },
  {
   "cell_type": "markdown",
   "metadata": {},
   "source": [
    "#### Print the type of `tup`. \n",
    "\n",
    "Make sure its type is correct (i.e. *tuple* instead of *str*)."
   ]
  },
  {
   "cell_type": "code",
   "execution_count": 21,
   "metadata": {},
   "outputs": [
    {
     "name": "stdout",
     "output_type": "stream",
     "text": [
      "The type is a tuple: True\n"
     ]
    }
   ],
   "source": [
    "# Your code here\n",
    "\n",
    "#check datatyp of the tup using the 'type' function and an is statement\n",
    "tup_or_not = type(tup) is tuple\n",
    "\n",
    "#print it plus turn the boolean into a string to add to teh sentence confirming it's true or false\n",
    "print(\"The type is a tuple: \" + str(tup_or_not)) \n"
   ]
  },
  {
   "cell_type": "markdown",
   "metadata": {},
   "source": [
    "#### Now try to append the following elements to `tup`. \n",
    "\n",
    "Are you able to do it? Explain.\n",
    "\n",
    "```\n",
    "\"r\", \"o\", \"n\", \"h\", \"a\", \"c\", \"k',\n",
    "```"
   ]
  },
  {
   "cell_type": "code",
   "execution_count": 23,
   "metadata": {},
   "outputs": [
    {
     "ename": "SyntaxError",
     "evalue": "EOL while scanning string literal (<ipython-input-23-94071c82fa6e>, line 3)",
     "output_type": "error",
     "traceback": [
      "\u001b[1;36m  File \u001b[1;32m\"<ipython-input-23-94071c82fa6e>\"\u001b[1;36m, line \u001b[1;32m3\u001b[0m\n\u001b[1;33m    tup.append(\"r\", \"o\", \"n\", \"h\", \"a\", \"c\", \"k')\u001b[0m\n\u001b[1;37m                                                 ^\u001b[0m\n\u001b[1;31mSyntaxError\u001b[0m\u001b[1;31m:\u001b[0m EOL while scanning string literal\n"
     ]
    }
   ],
   "source": [
    "# Your code here\n",
    "\n",
    "tup.append(\"r\", \"o\", \"n\", \"h\", \"a\", \"c\", \"k')\n",
    "\n",
    "# Your explanation here\n",
    "#This does not work because are immutable/unchangeable"
   ]
  },
  {
   "cell_type": "markdown",
   "metadata": {},
   "source": [
    "#### How about re-assign a new value to an existing tuple?\n",
    "\n",
    "Re-assign the following elements to `tup`. Are you able to do it? Explain.\n",
    "\n",
    "```\n",
    "\"I\", \"r\", \"o\", \"n\", \"h\", \"a\", \"c\", \"k\"\n",
    "```"
   ]
  },
  {
   "cell_type": "code",
   "execution_count": 4,
   "metadata": {},
   "outputs": [],
   "source": [
    "# Your code here\n",
    "\n",
    "\n",
    "\n",
    "# Your explanation here\n",
    "#This does not work because are immutable/unchangeable. You would have to chagne it to a list first\n",
    "# and then change it back to a tuple later"
   ]
  },
  {
   "cell_type": "markdown",
   "metadata": {},
   "source": [
    "#### Split `tup` into `tup1` and `tup2` with 4 elements in each. \n",
    "\n",
    "`tup1` should be `(\"I\", \"r\", \"o\", \"n\")` and `tup2` should be `(\"h\", \"a\", \"c\", \"k\")`.\n",
    "\n",
    "*Hint: use positive index numbers for `tup1` assignment and use negative index numbers for `tup2` assignment. Positive index numbers count from the beginning whereas negative index numbers count from the end of the sequence.*\n",
    "\n",
    "Also print `tup1` and `tup2`."
   ]
  },
  {
   "cell_type": "code",
   "execution_count": 5,
   "metadata": {},
   "outputs": [
    {
     "name": "stdout",
     "output_type": "stream",
     "text": [
      "('I', 'r', 'o', 'n')\n",
      "('h', 'a', 'c')\n"
     ]
    }
   ],
   "source": [
    "# Your code here\n",
    "\n",
    "#covnert tup into a list to perform opeartions on it to change it easier for the first tup1\n",
    "tup = ('I', 'r', 'o', 'n', 'h', 'a', 'c', 'k')\n",
    "tup1_list = []\n",
    "\n",
    "#add indexed values 0-3 into the new list\n",
    "for i in range(0, 4):\n",
    "    tup1_list.append((tup[i]))\n",
    "\n",
    "tup2_list = []\n",
    "\n",
    "#covnert tup into a list to perform opeartions on it to change it easier for the second tup2\n",
    "\n",
    "for i in range(4, 7):\n",
    "    tup2_list.append((tup[i]))\n",
    "    \n",
    "\n",
    "#convert tup1 list into a tuple using the tuple function\n",
    "tup1 = tuple(tup1_list)\n",
    "print(tup1)\n",
    "\n",
    "#convert tup2 list into a tuple using the tuple function\n",
    "tup2 = tuple(tup2_list)\n",
    "print(tup2)"
   ]
  },
  {
   "cell_type": "markdown",
   "metadata": {},
   "source": [
    "#### Add `tup1` and `tup2` into `tup3` using the `+` operator.\n",
    "\n",
    "Then print `tup3` and check if `tup3` equals to `tup`."
   ]
  },
  {
   "cell_type": "code",
   "execution_count": 7,
   "metadata": {},
   "outputs": [
    {
     "name": "stdout",
     "output_type": "stream",
     "text": [
      "('I', 'r', 'o', 'n', 'h', 'a', 'c')\n",
      "tup3 not equal to tup\n"
     ]
    }
   ],
   "source": [
    "# Your code here\n",
    "\n",
    "#add up tup 1 and 2 into a new variable tup3\n",
    "\n",
    "tup3 = tup1 + tup2\n",
    "print(tup3)\n",
    "\n",
    "#use an if statement to compare whether tup3 and tup are equal\n",
    "if tup3 == tup:\n",
    "    print(\"tup3 = tup\")\n",
    "else:\n",
    "    print(\"tup3 not equal to tup\")\n"
   ]
  },
  {
   "cell_type": "markdown",
   "metadata": {},
   "source": [
    "#### Count the number of elements in `tup1` and `tup2`. Then add the two counts together and check if the sum is the same as the number of elements in `tup3`"
   ]
  },
  {
   "cell_type": "code",
   "execution_count": 20,
   "metadata": {},
   "outputs": [
    {
     "name": "stdout",
     "output_type": "stream",
     "text": [
      "4\n",
      "3\n",
      "7\n",
      "Yes\n"
     ]
    }
   ],
   "source": [
    "# Your code here\n",
    "\n",
    "#create a list from the tuple to make a new list for tup1\n",
    "tup_1_list = list(((j) for i in tup1 for j in i)) \n",
    "\n",
    "#result for tup1 using len function to calculate total nunber of elements\n",
    "result1 = len(tup_1_list) \n",
    "print(result1)\n",
    "\n",
    "#create a list from the tuple to make a new list for tup2\n",
    "tup_2_list = list(((j) for i in tup2 for j in i)) \n",
    "\n",
    "#result for tup2 using len function to calculate total nunber of elements\n",
    "result2 = len(tup_2_list)\n",
    "print(result2)\n",
    "\n",
    "#Do the same for tup3 \n",
    "tup_3_list = list(((j) for i in tup3 for j in i)) \n",
    "result3 = len(tup_3_list) \n",
    "print(result3)\n",
    "\n",
    "#check if tup 1 + tup 2 have same number of elements as tup3\n",
    "if tup1 + tup2 == tup3:\n",
    "    print(\"Yes\")\n",
    "else:\n",
    "    print(\"No\")"
   ]
  },
  {
   "cell_type": "markdown",
   "metadata": {},
   "source": [
    "#### What is the index number of `\"h\"` in `tup3`?"
   ]
  },
  {
   "cell_type": "code",
   "execution_count": 22,
   "metadata": {},
   "outputs": [
    {
     "name": "stdout",
     "output_type": "stream",
     "text": [
      "4\n"
     ]
    }
   ],
   "source": [
    "# Your code here\n",
    "#finds the index nubmer of \"h\" using the index function\n",
    "print(tup3.index(\"h\"))"
   ]
  },
  {
   "cell_type": "markdown",
   "metadata": {},
   "source": [
    "#### Now, use a FOR loop to check whether each letter in the following list is present in `tup3`:\n",
    "\n",
    "```\n",
    "letters = [\"a\", \"b\", \"c\", \"d\", \"e\"]\n",
    "```\n",
    "\n",
    "For each letter you check, print `True` if it is present in `tup3` otherwise print `False`.\n",
    "\n",
    "*Hint: you only need to loop `letters`. You don't need to loop `tup3` because there is a Python operator `in` you can use. See [reference](https://stackoverflow.com/questions/17920147/how-to-check-if-a-tuple-contains-an-element-in-python).*"
   ]
  },
  {
   "cell_type": "code",
   "execution_count": 31,
   "metadata": {},
   "outputs": [
    {
     "name": "stdout",
     "output_type": "stream",
     "text": [
      "a True\n",
      "b False\n",
      "c True\n",
      "d False\n",
      "e False\n"
     ]
    }
   ],
   "source": [
    "# Your code here\n",
    "\n",
    "\n",
    "#list\n",
    "letters = [\"a\", \"b\", \"c\", \"d\", \"e\"]\n",
    "\n",
    "\n",
    "\n",
    "#loop through letters if in tup3 and print \"True\", or \"False\" if not\n",
    "for lets in letters:\n",
    "    if lets in tup3:\n",
    "        print(lets, \"True\")\n",
    "    else:\n",
    "        print(lets, \"False\")\n",
    "\n"
   ]
  },
  {
   "cell_type": "markdown",
   "metadata": {},
   "source": [
    "#### How many times does each letter in `letters` appear in `tup3`?\n",
    "\n",
    "Print out the number of occurrence of each letter."
   ]
  },
  {
   "cell_type": "code",
   "execution_count": 43,
   "metadata": {},
   "outputs": [
    {
     "ename": "SyntaxError",
     "evalue": "invalid syntax (<ipython-input-43-f50163f76243>, line 10)",
     "output_type": "error",
     "traceback": [
      "\u001b[1;36m  File \u001b[1;32m\"<ipython-input-43-f50163f76243>\"\u001b[1;36m, line \u001b[1;32m10\u001b[0m\n\u001b[1;33m    letters_dict({lets, lets +=1 })  #add one to the dictionary\u001b[0m\n\u001b[1;37m                             ^\u001b[0m\n\u001b[1;31mSyntaxError\u001b[0m\u001b[1;31m:\u001b[0m invalid syntax\n"
     ]
    }
   ],
   "source": [
    "# Your code here\n",
    "\n",
    "letters = [\"a\", \"b\", \"c\", \"d\", \"e\"]\n",
    "\n",
    "letters_dict = {\"a\": 1, \"b\": 1, \"c\": 1, \"d\": 1, \"e\": 1}\n",
    "\n",
    "for lets in letters:\n",
    "    if lets in tup3:\n",
    "        letters_dict({lets, lets +=1 })  #add one to the dictionary value\n",
    "    else:\n",
    "        pass\n",
    "    \n",
    "print(letters_dict)"
   ]
  },
  {
   "cell_type": "code",
   "execution_count": 45,
   "metadata": {},
   "outputs": [
    {
     "name": "stdout",
     "output_type": "stream",
     "text": [
      "a 1\n",
      "c 2\n"
     ]
    }
   ],
   "source": [
    "letters = [\"a\", \"b\", \"c\", \"d\", \"e\"]\n",
    "\n",
    "count = 0\n",
    "\n",
    "for lets in letters:\n",
    "    if lets in tup3:\n",
    "        count += 1\n",
    "        print(lets, count)\n",
    "        "
   ]
  },
  {
   "cell_type": "code",
   "execution_count": null,
   "metadata": {},
   "outputs": [],
   "source": []
  }
 ],
 "metadata": {
  "kernelspec": {
   "display_name": "Python 3",
   "language": "python",
   "name": "python3"
  },
  "language_info": {
   "codemirror_mode": {
    "name": "ipython",
    "version": 3
   },
   "file_extension": ".py",
   "mimetype": "text/x-python",
   "name": "python",
   "nbconvert_exporter": "python",
   "pygments_lexer": "ipython3",
   "version": "3.8.3"
  }
 },
 "nbformat": 4,
 "nbformat_minor": 2
}
